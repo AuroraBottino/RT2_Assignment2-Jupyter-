{
 "cells": [
  {
   "cell_type": "code",
   "execution_count": null,
   "id": "4853b2c7",
   "metadata": {},
   "outputs": [],
   "source": [
    "# Import Jupyros for integrating Jupyter notebooks with ROS\n",
    "import jupyros as jr\n",
    "# Import rospy for writing ROS nodes\n",
    "import rospy\n",
    "# Import ipywidgets for interactive widgets in Jupyter notebooks\n",
    "import ipywidgets as widgets\n",
    "from ipywidgets import Button, Layout, ButtonStyle, GridBox, VBox, HBox\n",
    "# Import matplotlib.pyplot for data visualization\n",
    "from matplotlib import pyplot as plt\n",
    "\n",
    "# Import actionlib for implementing ROS actions\n",
    "import actionlib\n",
    "import actionlib.msg\n",
    "# Import custom message types\n",
    "import assignment_2_2022.msg\n",
    "from nav_msgs.msg import Odometry\n",
    "from assignment_2_2022.msg import Position_velocity\n",
    "from sensor_msgs.msg import LaserScan\n",
    "\n",
    "# Import tf for working with coordinate transformations\n",
    "import tf\n",
    "from tf.transformations import quaternion_matrix\n",
    "# Import numpy for numerical computations\n",
    "import numpy as np\n",
    "# Import matplotlib.animation for creating animated plots\n",
    "from matplotlib.animation import FuncAnimation\n",
    "import numpy as np\n",
    "# Import matplotlib for advanced plot customization\n",
    "import matplotlib as mpl"
   ]
  },
  {
   "cell_type": "code",
   "execution_count": null,
   "id": "adb46543",
   "metadata": {},
   "outputs": [],
   "source": [
    "# Define global variables \n",
    "global client\n",
    "global publisher\n",
    "global msg\n",
    "global goal\n",
    "global goal_cancelled\n",
    "global goal_reached\n",
    "global goal_list\n",
    "\n",
    "# Initialize empty lists for plotting\n",
    "x_plot = []\n",
    "y_plot = []\n",
    "xgoal_plot = []\n",
    "ygoal_plot = []\n",
    "\n",
    "#initialize the ROS node\n",
    "rospy.init_node('node_a')"
   ]
  },
  {
   "cell_type": "code",
   "execution_count": null,
   "id": "38901608",
   "metadata": {},
   "outputs": [],
   "source": [
    "# Create a publisher to publish messages of type Position_velocity on the \"/pos_vel\" topic\n",
    "pub = rospy.Publisher(\"/pos_vel\", Position_velocity, queue_size = 10)"
   ]
  },
  {
   "cell_type": "code",
   "execution_count": null,
   "id": "7fe3ced1",
   "metadata": {},
   "outputs": [],
   "source": [
    "def pub_values(msg):\n",
    "    \n",
    "    # Extract position from the received message\n",
    "    pos = msg.pose.pose.position\n",
    "\n",
    "    # Extract velocity from the received message\n",
    "    velocity = msg.twist.twist.linear\n",
    "\n",
    "    # Create a custom message object\n",
    "    position_velocity = Position_velocity()\n",
    "\n",
    "    # Set the values of the custom message\n",
    "    position_velocity.x=pos.x\n",
    "    position_velocity.y=pos.y\n",
    "    position_velocity.v_x=velocity.x\n",
    "    position_velocity.v_y=velocity.y\n",
    "\n",
    "    # Publish the custom message on the specified topic\n",
    "    pub.publish(position_velocity)"
   ]
  },
  {
   "cell_type": "code",
   "execution_count": null,
   "id": "bedd6488",
   "metadata": {},
   "outputs": [],
   "source": [
    "jr.subscribe(\"/odom\", Odometry, pub_values)"
   ]
  },
  {
   "cell_type": "code",
   "execution_count": null,
   "id": "71245d05",
   "metadata": {},
   "outputs": [],
   "source": [
    "client = actionlib.SimpleActionClient('/reaching_goal', assignment_2_2022.msg.PlanningAction)\n",
    "\n",
    "#wait for server\n",
    "client.wait_for_server()"
   ]
  },
  {
   "cell_type": "code",
   "execution_count": null,
   "id": "85572eed",
   "metadata": {},
   "outputs": [],
   "source": [
    "goal = assignment_2_2022.msg.PlanningGoal()\n",
    "\n",
    "# Create FloatText widgets for specifying goal coordinates\n",
    "x = widgets.FloatText(description = \"x:\")\n",
    "y = widgets.FloatText(description = \"y:\")\n",
    "display(x, y)\n",
    "\n",
    "# Create send and cancel buttons\n",
    "send_button = Button(description='SEND GOAL',tooltip='SEND GOAL',layout=Layout(width='20%', height='50px', grid_area='b1'),button_style='success')\n",
    "cancel_button = Button(description='CANCEL GOAL',tooltip='CANCEL GOAL',layout=Layout(width='20%',height='50px', grid_area='b2'),button_style='danger')\n",
    "display(send_button,cancel_button)\n",
    "\n",
    "# Function to execute when the send button is clicked\n",
    "def send_clicked(b):\n",
    "    \n",
    "    # Set the goal coordinates from the FloatText widgets\n",
    "    goal.target_pose.pose.position.x = x.value\n",
    "    goal.target_pose.pose.position.y = y.value\n",
    "         \n",
    "    # Send the goal to the action server\n",
    "    client.send_goal(goal)\n",
    "    \n",
    "    # Add the goal coordinates to the plot\n",
    "    xgoal_plot.append(x.value)\n",
    "    ygoal_plot.append(y.value)\n",
    "    \n",
    "    # Disable the input and send button\n",
    "    x.disabled = True\n",
    "    y.disabled = True\n",
    "    send_button.disabled = True\n",
    "    # Enable the cancel button\n",
    "    cancel_button.disabled = False\n",
    "\n",
    "# Function to execute when the cancel button is clicked\n",
    "send_button.on_click(send_clicked)\n",
    "\n",
    "def cancel_clicked(b):\n",
    "    # Cancel the goal\n",
    "    client.cancel_goal()\n",
    "    \n",
    "cancel_button.on_click(cancel_clicked)\n",
    "        "
   ]
  },
  {
   "cell_type": "code",
   "execution_count": null,
   "id": "24ca4894",
   "metadata": {},
   "outputs": [],
   "source": [
    "def update_goals_lists():\n",
    "    # Declare global variables\n",
    "    global goal_reached, goal_cancelled\n",
    "    # Append the goal_reached value to reached_list\n",
    "    reached_list.append(goal_reached)\n",
    "    # Append the goal_cancelled value to not_reached_list\n",
    "    not_reached_list.append(goal_cancelled)"
   ]
  },
  {
   "cell_type": "code",
   "execution_count": null,
   "id": "c756eb7d",
   "metadata": {},
   "outputs": [],
   "source": [
    "def process_goal_feedback(data):\n",
    "    # Declare global variables\n",
    "    \n",
    "    global goal_reached, goal_cancelled\n",
    "    \n",
    "    if data.feedback.stat == \"Target reached!\":\n",
    "        # Enable input and start button\n",
    "        x.disabled = False\n",
    "        y.disabled = False\n",
    "        button_start.disabled = False\n",
    "        button_stop.disabled = True\n",
    "        \n",
    "        # Update status and goal list\n",
    "        status.value = \"Goal reached!\"\n",
    "        goal_list.value = goal_list.value + \"    Goal reached!\\n\"\n",
    "        \n",
    "        # Increment goal_reached count and update lists\n",
    "        goal_reached += 1\n",
    "        update_goals_lists()\n",
    "        \n",
    "    elif data.feedback.stat == \"Target cancelled!\":\n",
    "        # Enable input and start button\n",
    "        x.disabled = False\n",
    "        y.disabled = False\n",
    "        button_start.disabled = False\n",
    "        button_stop.disabled = True\n",
    "        \n",
    "        # Update status and goal list\n",
    "        status.value = \"Goal cancelled!\"\n",
    "        goal_list.value = goal_list.value + \"    Goal cancelled!\\n\"\n",
    "        \n",
    "        # Increment goal_cancelled count and update lists\n",
    "        goal_canceleld += 1\n",
    "        update_goals_lists()\n"
   ]
  },
  {
   "cell_type": "code",
   "execution_count": null,
   "id": "8022e399",
   "metadata": {},
   "outputs": [],
   "source": [
    "# Create FloatText widgets for displaying distance and angle\n",
    "distance_widget= widgets.FloatText(description = \"Distance:\", disabled = True)\n",
    "angle_widget = widgets.FloatText(description = \"Angle:\", disabled = True)\n",
    "\n",
    "# Callback function for processing laser scan data\n",
    "def process_laser_scan(scan):\n",
    "    # Initialize minimum range and angle variables\n",
    "    min_range = 100\n",
    "    angle = 100\n",
    "    # Iterate through the laser scan data\n",
    "    for at, x in enumerate(scan.ranges):\n",
    "        # Find the minimum range that is greater than the range minimum\n",
    "        if x < min_range and x > scan.range_min:\n",
    "            min_range = x\n",
    "            angle = scan.angle_min + scan.angle_increment * at\n",
    "            \n",
    "    # Update the distance and angle values in the FloatText widgets\n",
    "    distance_widget.value = min_range\n",
    "    angle_widget.value = angle"
   ]
  },
  {
   "cell_type": "code",
   "execution_count": null,
   "id": "72e28704",
   "metadata": {},
   "outputs": [],
   "source": [
    "# Subscribe to the '/scan' topic and call the process_laser_scan function when a message of type LaserScan is received\n",
    "jr.subscribe('/scan', LaserScan, process_laser_scan)"
   ]
  },
  {
   "cell_type": "code",
   "execution_count": null,
   "id": "bf303ba6",
   "metadata": {
    "scrolled": false
   },
   "outputs": [],
   "source": [
    "widgets.HBox([distance_widget, angle_widget], description = \"Distance from obstacle\")"
   ]
  },
  {
   "cell_type": "code",
   "execution_count": null,
   "id": "ee52d933",
   "metadata": {},
   "outputs": [],
   "source": [
    "class Visualiser:\n",
    "    \n",
    "    def __init__(self):\n",
    "        self.x_data, self.y_data = [] , []\n",
    "    \n",
    "    def vis_callback(self, data):\n",
    "        # Append position and velocity data to respective lists\n",
    "        self.y_data.append(data.pos_y)\n",
    "        self.x_data.append(data.pos_x)\n",
    "        # Update FloatText widgets with the received data\n",
    "        posx.value = data.pos_x\n",
    "        posy.value = data.pos_y\n",
    "        velx.value = data.vel_x\n",
    "        vely.value = data.vel_y\n",
    "            \n",
    "    def update_plot(self, frame):\n",
    "        # Update the plot with the updated data\n",
    "        self.ln.set_data(self.x_data, self.y_data)\n",
    "        return self.ln"
   ]
  },
  {
   "cell_type": "code",
   "execution_count": null,
   "id": "0ba01079",
   "metadata": {},
   "outputs": [],
   "source": [
    "np_x_plot = np.array(x_plot) \n",
    "np_y_plot = np.array(y_plot)\n",
    "\n",
    "fig = plt.figure()\n",
    "\n",
    "ax = fig.add_axes([0,0,1,1])\n",
    "ax.set_xlim(-10, 10)\n",
    "ax.set_ylim(-10, 10)\n",
    "\n",
    "# Plot the trajector\n",
    "ax.plot(np_x_plot,np_y_plot,label='trajectory')\n",
    "# Scatter plot for goals\n",
    "ax.scatter(xgoal_plot,ygoal_plot, color='red',label='goal')\n",
    "\n",
    "ax.set_title(\"my_robot\")\n",
    "ax.set_xlabel(\"x\")\n",
    "ax.set_ylabel(\"y\")\n",
    "ax.legend()"
   ]
  },
  {
   "cell_type": "code",
   "execution_count": null,
   "id": "72001ad6",
   "metadata": {},
   "outputs": [],
   "source": [
    "plt.bar(goal_reached, cancelled_goal)\n",
    "\n",
    "plt.xlabel('goals type')\n",
    "plt.ylabel('number')\n",
    "plt.title('Number goals reached/cancelled')\n",
    "\n",
    "plt.show()"
   ]
  },
  {
   "cell_type": "code",
   "execution_count": null,
   "id": "828fac35",
   "metadata": {
    "scrolled": true
   },
   "outputs": [],
   "source": [
    "plt.pie(goal_reached, cancelled_goal)\n",
    "plt.title('Number goals reached/cancelled')\n",
    "plt.show()"
   ]
  }
 ],
 "metadata": {
  "kernelspec": {
   "display_name": "Python 3 (ipykernel)",
   "language": "python",
   "name": "python3"
  },
  "language_info": {
   "codemirror_mode": {
    "name": "ipython",
    "version": 3
   },
   "file_extension": ".py",
   "mimetype": "text/x-python",
   "name": "python",
   "nbconvert_exporter": "python",
   "pygments_lexer": "ipython3",
   "version": "3.8.5"
  }
 },
 "nbformat": 4,
 "nbformat_minor": 5
}
